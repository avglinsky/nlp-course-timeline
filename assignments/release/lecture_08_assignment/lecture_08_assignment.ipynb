{
 "cells": [
  {
   "cell_type": "markdown",
   "id": "1212517c",
   "metadata": {},
   "source": [
    "# **Важно!** \n",
    "\n",
    "Домашнее задание состоит из нескольких задач, которые вам нужно решить.\n",
    "*   Баллы выставляются по принципу выполнено/невыполнено.\n",
    "*   За каждую выполненую задачу вы получаете баллы (количество баллов за задание указано в скобках).\n",
    "\n",
    "**Инструкция выполнения:** Выполните задания в этом же ноутбуке (места под решения **КАЖДОЙ** задачи обозначены как **#НАЧАЛО ВАШЕГО РЕШЕНИЯ** и **#КОНЕЦ ВАШЕГО РЕШЕНИЯ**)\n",
    "\n",
    "**Как отправить задание на проверку:** Вам необходимо сохранить ваше решение в данном блокноте и отправить итоговый **файл .IPYNB** на учебной платформе в **стандартную форму сдачи домашнего задания.**\n",
    "\n",
    "**Срок проверки преподавателем:** домашнее задание проверяется **в течение 3 дней после дедлайна сдачи** с предоставлением обратной связи\n",
    "\n",
    "# **Прежде чем проверять задания:**\n",
    "\n",
    "1. Перезапустите **ядро (restart the kernel)**: в меню, выбрать **Ядро (Kernel)**\n",
    "→ **Перезапустить (Restart)**\n",
    "2. Затем **Выполнить** **все ячейки (run all cells)**: в меню, выбрать **Ячейка (Cell)**\n",
    "→ **Запустить все (Run All)**.\n",
    "\n",
    "После ячеек с заданием следуют ячейки с проверкой **с помощью assert.**\n",
    "\n",
    "Если в коде есть ошибки, assert выведет уведомление об ошибке.\n",
    "\n",
    "Если в коде нет ошибок, assert отработает без вывода дополнительной информации."
   ]
  },
  {
   "cell_type": "markdown",
   "id": "c07ea4f4",
   "metadata": {},
   "source": [
    "---"
   ]
  },
  {
   "cell_type": "code",
   "execution_count": null,
   "id": "27450ccb-9f7b-4873-88ac-d6163cf59888",
   "metadata": {},
   "outputs": [],
   "source": [
    "import torch\n",
    "import torch.nn as nn\n",
    "from torch.nn import functional as F\n",
    "\n",
    "device = 'cuda' if torch.cuda.is_available() else 'cpu'"
   ]
  },
  {
   "cell_type": "markdown",
   "id": "9ff1d07f-d8cc-4eb4-ba1f-122a6594bde8",
   "metadata": {},
   "source": [
    "# Упрощенная модель GPT"
   ]
  },
  {
   "cell_type": "markdown",
   "id": "db95f662-dd66-44fa-8f10-e8d847254d3e",
   "metadata": {},
   "source": [
    "### Конфигурация модели"
   ]
  },
  {
   "cell_type": "code",
   "execution_count": null,
   "id": "7ea72c95-25a2-44a5-b865-9704847057c7",
   "metadata": {},
   "outputs": [],
   "source": [
    "config = {\n",
    "  \"n_ctx\": 32,  # Максимальная длина контекста (context).\n",
    "  \"n_embd\": 64,  # Размерность встраивания (embedding dimension).\n",
    "  \"n_head\": 4,  # Количество внимательных голов (attention heads) в многоголовом внимании.\n",
    "  \"n_layer\": 4,  # Количество слоев в модели.\n",
    "  \"dropout\": 0.0,  # Дропаут  (dropout) для предотвращения переобучения.\n",
    "  \"vocab_size\": None,  # Размер словаря модели.\n",
    "  \"batch_size\": 16,  # Размер словаря модели.\n",
    "  \"eval_interval\": 100,  # Шаг для вывода оценки модели.\n",
    "  \"eval_iters\": 100,  # Шаг для вывода оценки модели.\n",
    "  \"learning_rate\": 1e-3,  # Шаг обучения.\n",
    "}\n",
    "config[\"head_size\"]  = config[\"n_embd\"] // config[\"n_head\"]\n",
    "\n",
    "device = 'cuda' if torch.cuda.is_available() else 'cpu'\n",
    "\n",
    "torch.manual_seed(1)"
   ]
  },
  {
   "cell_type": "markdown",
   "id": "edd20444-4513-41b4-a627-4679531b6cf9",
   "metadata": {},
   "source": [
    "### Подготовка данных\n",
    "\n",
    "Процесс подготовки данных включает в себя следующие этапы:\n",
    "\n",
    "1. Сбор данных: Сначала необходимо собрать исходные данные, на которых будет обучаться модель GPT. Это может быть большой корпус текстов, содержащий разнообразные данные, в зависимости от вашей задачных: Данные обычно требуют предварительной обработки, включая очистку от мусорных символов, токенизацию (разбиение текста на токены, как слова или подстр тру и другие операции, зависящие от задач2.\n",
    "\n",
    "3. Токенизация: Модели GPT работают с токенами, поэтому текст должен быть преобразован в последовательность токенов. Вы можете использовать токенизаторы, предоставляемые библиотеками, такими как Hugging Face Transformers, для выполнения этой оп\n",
    "   \n",
    "3. Разделение данных: Данные обычно разделяются на тренировочную, валидационную и тестовую выборки для оценки и тестирования модели.ер43ии.\n",
    "\n",
    "4. Создание последовательностей: Данные обычно разбиваются на последовательности или \"окна\", чтобы модель могла изучать контекст. Это может потребовать создания окон разной длины, в зависимости от задачи. Создание целевых последовательностей (для обучения с учителем): Если вы обучаете модель с учителем, вам также потребуется создать целевые последовательности, которые модель будет пытаться пр ответ на запросы."
   ]
  },
  {
   "cell_type": "markdown",
   "id": "006c4303-5d01-41d0-8f46-e42e45aaf457",
   "metadata": {},
   "source": [
    "### 1. Сбор данных"
   ]
  },
  {
   "cell_type": "code",
   "execution_count": null,
   "id": "6787ca47-8c04-4d57-a3b0-698f3a4c2d2f",
   "metadata": {},
   "outputs": [],
   "source": [
    "with open('data/input.txt', 'r', encoding='utf-8') as f:\n",
    "    text = f.read()\n",
    "\n",
    "print(\"length of dataset in characters: \", len(text))\n",
    "\n",
    "# let's look at the first 1000 characters\n",
    "print(text[:100])"
   ]
  },
  {
   "cell_type": "markdown",
   "id": "fd2bd88a-1f44-4933-adc3-4a215b815bb9",
   "metadata": {},
   "source": [
    "### 2. Токенизация для упрощенной модели GPT"
   ]
  },
  {
   "cell_type": "code",
   "execution_count": null,
   "id": "e7739b4a-e959-4d47-9ae2-829c2853e9a1",
   "metadata": {},
   "outputs": [],
   "source": [
    "# Токенизация для упрощенной модели GPT\n",
    "chars = sorted(list(set(text)))\n",
    "config[\"vocab_size\"] = len(chars)\n",
    "print(''.join(chars))\n",
    "print(config[\"vocab_size\"])"
   ]
  },
  {
   "cell_type": "code",
   "execution_count": null,
   "id": "cb054b8a-5b84-4ec1-b6a1-e49cef45692b",
   "metadata": {},
   "outputs": [],
   "source": [
    "# create a mapping from characters to integers\n",
    "stoi = { ch:i for i,ch in enumerate(chars) }\n",
    "itos = { i:ch for i,ch in enumerate(chars) }\n",
    "encode = lambda s: [stoi[c] for c in s] # encoder: take a string, output a list of integers\n",
    "decode = lambda l: ''.join([itos[i] for i in l]) # decoder: take a list of integers, output a string"
   ]
  },
  {
   "cell_type": "code",
   "execution_count": null,
   "id": "d0e6d412-d58a-48db-adcd-1804728e3824",
   "metadata": {},
   "outputs": [],
   "source": [
    "print(encode(\"hello world\"))\n",
    "print(decode(encode(\"hello world\")))"
   ]
  },
  {
   "cell_type": "markdown",
   "id": "8a28e32e-d41f-48d7-a153-c2742a22c252",
   "metadata": {},
   "source": [
    "### 3. Разделение данных"
   ]
  },
  {
   "cell_type": "code",
   "execution_count": null,
   "id": "2d17d8c2-9e28-4bec-a793-11d2e552e453",
   "metadata": {},
   "outputs": [],
   "source": [
    "# Train and test splits\n",
    "\n",
    "# put all data into a PyTorch tensor\n",
    "data = torch.tensor(encode(text), dtype=torch.long)\n",
    "\n",
    "# creating train and test datasets\n",
    "n = int(0.9*len(data)) # first 90% will be train, rest val\n",
    "train_data = data[:n]\n",
    "val_data = data[n:]\n",
    "\n",
    "print(train_data[:100])"
   ]
  },
  {
   "cell_type": "markdown",
   "id": "ee1ec91a-5e8a-4f9e-9a54-55002e8632f9",
   "metadata": {},
   "source": [
    "### 4. Создание последовательностей"
   ]
  },
  {
   "cell_type": "code",
   "execution_count": null,
   "id": "8499ecbf-951b-44a6-8b9a-c98b481157c3",
   "metadata": {},
   "outputs": [],
   "source": [
    "# printing a n_ctx of train data\n",
    "n_ctx = config[\"n_ctx\"]\n",
    "batch_size = config[\"batch_size\"]\n",
    "train_data[:n_ctx +1]"
   ]
  },
  {
   "cell_type": "code",
   "execution_count": null,
   "id": "2973a040-30c5-4bfd-a958-c2e886e052a3",
   "metadata": {},
   "outputs": [],
   "source": [
    "# exploring test and train data\n",
    "x = train_data[:n_ctx]\n",
    "y = train_data[1:n_ctx+1]\n",
    "for t in range(n_ctx):\n",
    "    context = x[:t+1]\n",
    "    target = y[t]\n",
    "    print(f\"when input is {context} the target: {target}\")"
   ]
  },
  {
   "cell_type": "code",
   "execution_count": null,
   "id": "cfa70482-b63c-45f5-9306-de4063b1f205",
   "metadata": {},
   "outputs": [],
   "source": [
    "# data loading\n",
    "def get_batch(split):\n",
    "    # generate a small batch of data of inputs x and targets y\n",
    "    data = train_data if split == 'train' else val_data\n",
    "    ix = torch.randint(len(data) - n_ctx, (batch_size,))\n",
    "    x = torch.stack([data[i:i+n_ctx] for i in ix])\n",
    "    y = torch.stack([data[i+1:i+n_ctx+1] for i in ix])\n",
    "    x, y = x.to(device), y.to(device)\n",
    "    return x, y"
   ]
  },
  {
   "cell_type": "code",
   "execution_count": null,
   "id": "a591e5b9-3963-4d58-a3b8-c12154a83aa2",
   "metadata": {},
   "outputs": [],
   "source": [
    "# testing get_batch function\n",
    "\n",
    "xb, yb = get_batch('train')\n",
    "print('inputs:')\n",
    "print(xb.shape)\n",
    "print(xb)\n",
    "print('targets:')\n",
    "print(yb.shape)\n",
    "print(yb)\n",
    "\n",
    "print('----')\n",
    "\n",
    "for b in range(batch_size): # batch dimension\n",
    "    for t in range(n_ctx): # time dimension\n",
    "        context = xb[b, :t+1]\n",
    "        target = yb[b,t]\n",
    "        if b == 0: \n",
    "            print(f\"when input is {context.tolist()} the target: {target}\")"
   ]
  },
  {
   "cell_type": "markdown",
   "id": "9d7933c5-1836-439d-af2e-d9257395d76f",
   "metadata": {},
   "source": [
    "## Построение упрощенной модели GPT"
   ]
  },
  {
   "cell_type": "code",
   "execution_count": null,
   "id": "c78f8f8d-4a2a-4f32-82b3-297668883e94",
   "metadata": {},
   "outputs": [],
   "source": [
    "# loss function definition\n",
    "@torch.no_grad()\n",
    "def estimate_loss(model):\n",
    "    out = {}\n",
    "    model.eval()\n",
    "    for split in ['train', 'val']:\n",
    "        losses = torch.zeros(config[\"eval_iters\"])\n",
    "        for k in range(config[\"eval_iters\"]):\n",
    "            X, Y = get_batch(split)\n",
    "            logits, loss = model(X, Y)\n",
    "            losses[k] = loss.item()\n",
    "        out[split] = losses.mean()\n",
    "    model.train()\n",
    "    return out"
   ]
  },
  {
   "cell_type": "markdown",
   "id": "af01ffef-0409-425d-86b7-3ac546861f08",
   "metadata": {},
   "source": [
    "### Attention блоки"
   ]
  },
  {
   "cell_type": "markdown",
   "id": "b06ce45d-3018-45d0-a263-7e53fcf8551c",
   "metadata": {},
   "source": [
    "Заметки о внимании от А. Карпатного:\n",
    "- Внимание - это **механизм коммуникации**. Можно рассматривать как узлы в ориентированном графе, смотрящие друг на друга и агрегирующие информацию со взвешенной суммой от всех узлов, которые указывают на них, с весами, зависящими от данных.\n",
    "- Здесь нет понятия пространства. Внимание просто действует по набору векторов. Вот почему нам нужно позиционно кодировать токены.\n",
    "- Каждый пример в пакетном измерении, конечно, обрабатывается полностью независимо и никогда не \"разговаривает\" друг с другом\n",
    "- В блоке внимания \"encoder\" просто удалите единственную строку, которая выполняет маскировку с помощью \"tril\", позволяя всем токенам взаимодействовать. Этот блок здесь называется блоком внимания \"декодер\", потому что он имеет треугольную маскировку и обычно используется в настройках авторегрессии, таких как языковое моделирование.\n",
    "- \"само-внимание\" просто означает, что ключи и значения создаются из того же источника, что и запросы. При \"перекрестном внимании\" запросы по-прежнему генерируются из x, но ключи и значения поступают из какого-то другого внешнего источника (например, модуля кодирования).\n",
    "- \"Масштабированное\" внимание дополнительно делит `wei` на 1/ sqrt(head_size). Это делает так, что когда входные данные Q, K являются единичной дисперсией, wei тоже будет единичной дисперсией, а Softmax останется рассеянным и не будет насыщать слишком сильно. Иллюстрация ниже.\n",
    "  \n",
    "`torch.tril` определяет нижнюю треугольную матрицу, используемую для создания маскировки. Код для модуля Multihead Attention следующий."
   ]
  },
  {
   "cell_type": "code",
   "execution_count": null,
   "id": "dd3f3f31",
   "metadata": {
    "deletable": false,
    "nbgrader": {
     "cell_type": "code",
     "checksum": "67236dba41c5289d97aef9229f12cf77",
     "grade": true,
     "grade_id": "cell-2de34853f80c2e4f",
     "locked": false,
     "points": 0,
     "schema_version": 3,
     "solution": true,
     "task": false
    }
   },
   "outputs": [],
   "source": [
    "class Head(nn.Module):\n",
    "    \"\"\" Один блок внимания в механизме само-внимания (self-attention) \"\"\"\n",
    "\n",
    "    def __init__(self, **kwargs):\n",
    "        super().__init__()\n",
    "\n",
    "        # Устанавливаем атрибуты класса на основе переданных аргументов\n",
    "        for key, value in kwargs.items():\n",
    "            setattr(self, key, value)\n",
    "\n",
    "        # Создаем линейные преобразователи для ключей (key), запросов (query) и значений (value)\n",
    "        self.key = nn.Linear(self.n_embd, self.head_size, bias=False)\n",
    "        self.query = nn.Linear(self.n_embd, self.head_size, bias=False)\n",
    "        self.value = nn.Linear(self.n_embd, self.head_size, bias=False)\n",
    "\n",
    "        # Регистрируем буфер 'tril', который содержит нижний треугольник матрицы\n",
    "        # с единицами на главной диагонали\n",
    "        self.register_buffer('tril', torch.tril(torch.ones(self.n_ctx, self.n_ctx)))\n",
    "\n",
    "        # Создаем слой Dropout\n",
    "        self.dropout = nn.Dropout(self.dropout)\n",
    "\n",
    "    def forward(self, x):\n",
    "        \"\"\"\n",
    "        Задание 1 (2 балла): Вам предоставлен код класса Head, который представляет собой один блок механизма само-внимания в трансформере. \n",
    "\n",
    "        Вам необходимо реализовать метод forward, который выполняет операцию само-внимания. \n",
    "        Метод должен принимать входной тензор x формы (B, T, C), где B - размер пакета, T - количество токенов и \n",
    "        C - размерность эмбеддингов. \n",
    "        Вам нужно выполнить следующие шаги:\n",
    "\n",
    "        Преобразовать входной тензор x с помощью линейных преобразователей для ключей (сохранить в переменную k) \n",
    "        и запросов (сохранить в переменную q) .\n",
    "        Вычислить оценки внимания (affinities) с помощью матричного умножения ключей и запросов.\n",
    "        Применить маску для маскирования верхнего треугольника матрицы оценок внимания.\n",
    "        Применить функцию Softmax для получения весов внимания.\n",
    "        Применить слой Dropout к весам внимания.\n",
    "        Выполнить взвешенную агрегацию значений с использованием весов внимания (сохранить в переменную v).\n",
    "        Реализуйте метод forward так, чтобы он возвращал результат операции само-внимания.\n",
    "\n",
    "        В случае затруднений обратиться к коду как подсказке по операциям:\n",
    "        https://github.com/antonio-f/GPT_from_scratch/blob/main/GPT_from_scratch.ipynb\n",
    "        \"\"\"\n",
    "        # НАЧАЛО ВАШЕГО РЕШЕНИЯ\n",
    "        raise NotImplementedError() # удалить эту строку в процессе решения\n",
    "        # КОНЕЦ ВАШЕГО РЕШЕНИЯ\n",
    "\n",
    "        return out  # Возвращаем результат"
   ]
  },
  {
   "cell_type": "code",
   "execution_count": null,
   "id": "465d4d86-77ff-4acf-83f0-eff0f23a260d",
   "metadata": {
    "deletable": false,
    "nbgrader": {
     "cell_type": "code",
     "checksum": "27092ebfe282d450f4fce88e1bcda48c",
     "grade": true,
     "grade_id": "cell-6785bb05d8a637eb",
     "locked": false,
     "points": 0,
     "schema_version": 3,
     "solution": true,
     "task": false
    }
   },
   "outputs": [],
   "source": [
    "class MultiHeadAttention(nn.Module):\n",
    "    \"\"\" Несколько блоков механизма само-внимания, работающих параллельно \"\"\"\n",
    "\n",
    "    def __init__(self, **kwargs):\n",
    "        super().__init__()\n",
    "        \n",
    "        # Устанавливаем атрибуты класса на основе переданных аргументов\n",
    "        for key, value in kwargs.items():\n",
    "            setattr(self, key, value)\n",
    "        \n",
    "        # Создаем список блоков Head (блоки механизма само-внимания) в количестве n_head\n",
    "        self.heads = nn.ModuleList([Head(**kwargs) for _ in range(self.n_head)])\n",
    "        \n",
    "        # Создаем линейный проецирующий слой для объединения результатов от разных голов\n",
    "        self.proj = nn.Linear(self.n_embd, self.n_embd)\n",
    "        \n",
    "        # Создаем слой Dropout\n",
    "        self.dropout = nn.Dropout(self.dropout)\n",
    "\n",
    "    def forward(self, x):\n",
    "        # Для каждой головы механизма само-внимания выполняем операцию self-attention\n",
    "        # и конкатенируем результаты\n",
    "\n",
    "        \"\"\"\n",
    "        Задание 2 (1 балл): Вам предоставлен код класса MultiHeadAttention, который представляет собой блок многоголового механизма само-внимания в трансформере. \n",
    "        Вам нужно реализовать метод forward, который выполняет операцию многоголового само-внимания. \n",
    "        Метод должен принимать входной тензор x формы (B, T, C), где B - размер пакета, T - количество токенов и \n",
    "        C - размерность эмбеддингов. Вам нужно выполнить следующие шаги:\n",
    "\n",
    "        Передать входной тензор x через каждую голову многоголового механизма само-внимания.\n",
    "        Конкатенировать результаты от каждой головы вдоль последней размерности.\n",
    "        Пропустить объединенные результаты через линейный проецирующий слой.\n",
    "        Применить слой Dropout к выходу проецирующего слоя.\n",
    "        Реализуйте метод forward так, чтобы он возвращал итоговый результат операции многоголового само-внимания. \n",
    "        В случае затруднений обратиться к коду как подсказке по операциям:\n",
    "        https://github.com/antonio-f/GPT_from_scratch/blob/main/GPT_from_scratch.ipynb        \n",
    "        \"\"\"\n",
    "        \n",
    "        # НАЧАЛО ВАШЕГО РЕШЕНИЯ\n",
    "        raise NotImplementedError() # удалить эту строку в процессе решения\n",
    "        # КОНЕЦ ВАШЕГО РЕШЕНИЯ\n",
    "        \n",
    "        return out  # Возвращаем итоговый результат"
   ]
  },
  {
   "cell_type": "markdown",
   "id": "4083ec61-51bb-4c19-ab1e-cf8c73932b8a",
   "metadata": {},
   "source": [
    "Следующая ячейка содержит реализацию блока GPT Transformer, как показано в оригинальной статье. Это модуль ** декодера **, хотя он больше похож на модуль ** кодера ** трансформатора. Исходная архитектура использует 12 таких блоков, наша реализация использует 4 блока по умолчанию.\n",
    "<center>\n",
    "\n",
    "![Alt text](block.png)\n",
    "\n",
    "</center>"
   ]
  },
  {
   "cell_type": "code",
   "execution_count": null,
   "id": "62006800",
   "metadata": {
    "deletable": false,
    "nbgrader": {
     "cell_type": "code",
     "checksum": "77ab9d31458fc43dba4f78f4b93facba",
     "grade": true,
     "grade_id": "cell-75abc65d8ef470ef",
     "locked": false,
     "points": 0,
     "schema_version": 3,
     "solution": true,
     "task": false
    }
   },
   "outputs": [],
   "source": [
    "class FeedFoward(nn.Module):\n",
    "    \"\"\" Простой блок с линейным слоем, за которым следует нелинейное преобразование \"\"\"\n",
    "\n",
    "    def __init__(self, **kwargs):\n",
    "        super().__init__()\n",
    "\n",
    "        # Устанавливаем атрибуты класса на основе переданных аргументов\n",
    "        for key, value in kwargs.items():\n",
    "            setattr(self, key, value)\n",
    "\n",
    "        # Создаем последовательный нейронный блок (нейронную сеть)\n",
    "        self.net = nn.Sequential(\n",
    "            nn.Linear(self.n_embd, 4 * self.n_embd),  # Линейный слой с увеличением размерности\n",
    "            nn.ReLU(),  # Функция активации ReLU\n",
    "            nn.Linear(4 * self.n_embd, self.n_embd),  # Линейный слой с уменьшением размерности\n",
    "            nn.Dropout(self.dropout),  # Слой Dropout для регуляризации\n",
    "        )\n",
    "\n",
    "    def forward(self, x):\n",
    "        # Пропускаем входной тензор через нейронный блок (нейронную сеть)\n",
    "\n",
    "        \"\"\"\n",
    "        Задание 3 (1 балл): \n",
    "        Вам предоставлен код класса FeedFoward, который представляет собой простой блок в трансформере. \n",
    "        Ваша задача - написать метод forward для этого класса. Метод forward принимает входной тензор x и должен выполнить следующие шаги:\n",
    "\n",
    "        Пропустить входной тензор через линейный слой с увеличением размерности в 4 раза.\n",
    "        Применить функцию активации ReLU к результатам линейного слоя.\n",
    "        Пропустить результаты через второй линейный слой с уменьшением размерности до исходной размерности.\n",
    "        Применить слой Dropout для регуляризации данных.\n",
    "        Вернуть результат после обработки.\n",
    "        Напишите метод forward так, чтобы он выполнял описанные выше операции.\n",
    "        В случае затруднений обратиться к коду как подсказке по операциям:\n",
    "        https://github.com/antonio-f/GPT_from_scratch/blob/main/GPT_from_scratch.ipynb   \n",
    "        \"\"\"\n",
    "        \n",
    "        # НАЧАЛО ВАШЕГО РЕШЕНИЯ\n",
    "        raise NotImplementedError() # удалить эту строку в процессе решения\n",
    "        # КОНЕЦ ВАШЕГО РЕШЕНИЯ\n"
   ]
  },
  {
   "cell_type": "code",
   "execution_count": null,
   "id": "b8399ca2",
   "metadata": {
    "deletable": false,
    "nbgrader": {
     "cell_type": "code",
     "checksum": "b4ef619c97d73e6850363b23269d8c8e",
     "grade": true,
     "grade_id": "cell-5eca5bae1dadd16d",
     "locked": false,
     "points": 0,
     "schema_version": 3,
     "solution": true,
     "task": false
    }
   },
   "outputs": [],
   "source": [
    "class Block(nn.Module):\n",
    "    \"\"\" Блок трансформера: коммуникация, затем вычисления \"\"\"\n",
    "\n",
    "    def __init__(self, **kwargs):\n",
    "        # n_embd: размерность векторных представлений, n_head: количество \"голов\" внимания\n",
    "        super().__init__()\n",
    "\n",
    "        # Устанавливаем атрибуты класса на основе переданных аргументов\n",
    "        for key, value in kwargs.items():\n",
    "            setattr(self, key, value)\n",
    "\n",
    "        # Создаем блок многоголового механизма само-внимания (self-attention)\n",
    "        self.sa = MultiHeadAttention(**kwargs)\n",
    "\n",
    "        # Создаем блок с нейронной сетью для вычислений\n",
    "        self.ffwd = FeedFoward(**kwargs)\n",
    "\n",
    "        # Создаем слои нормализации после каждого блока\n",
    "        self.ln1 = nn.LayerNorm(self.n_embd)\n",
    "        self.ln2 = nn.LayerNorm(self.n_embd)\n",
    "\n",
    "    def forward(self, x):\n",
    "        \"\"\"\n",
    "        Задание 4 (2 балла): \n",
    "        Вам предоставлен код класса Block, который представляет собой блок в трансформере. \n",
    "        Ваша задача - написать метод forward для этого класса. Метод forward выполняет следующие операции:\n",
    "\n",
    "        Проходит входной тензор через блок многоголового механизма само-внимания (self.sa) и добавляет результат к исходному тензору, а затем применяет слой нормализации.\n",
    "        Проходит обновленный тензор через блок вычислений (self.ffwd), добавляет результат к предыдущему тензору и снова применяет слой нормализации.\n",
    "        Возвращает итоговый тензор после всех операций.\n",
    "        Ваше задание - реализовать метод forward так, чтобы он выполнял описанные выше операции.\n",
    "        В случае затруднений обратиться к коду как подсказке по операциям:\n",
    "        https://github.com/antonio-f/GPT_from_scratch/blob/main/GPT_from_scratch.ipynb \n",
    "        \"\"\"\n",
    "        # НАЧАЛО ВАШЕГО РЕШЕНИЯ\n",
    "        raise NotImplementedError() # удалить эту строку в процессе решения\n",
    "        # КОНЕЦ ВАШЕГО РЕШЕНИЯ\n",
    "\n",
    "        return x  # Возвращаем итоговый тензор после всех операций\n"
   ]
  },
  {
   "cell_type": "markdown",
   "id": "e894fdf8-b352-457c-a278-bb0bf01014c6",
   "metadata": {},
   "source": [
    "### Сборка языковой модели"
   ]
  },
  {
   "cell_type": "markdown",
   "id": "a241e725-d5d4-4594-bb44-07b03e8376a1",
   "metadata": {},
   "source": [
    "\n",
    "Модели, которые назначают вероятности последовательностям слов, называются **языковыми моделями**. Начиная с задачи вычисления $\\mathrm{P}(w \\mid h)$, вероятности *слова* $w$ при заданной *истории* $h$, можно рассмотреть историю $h$ = \"нагреватель такой горячий, что\" и вероятность того, что следующее слово - \"нагреватель\"\n",
    "\n",
    "$$\n",
    "\\mathrm{P}(\\text{нагреватель} \\mid \\text{нагреватель такой горячий, что})\n",
    "$$\n",
    "\n",
    "и вычислить ее как относительные частоты: взять очень большой корпус, посчитать количество случаев, когда мы видим \"нагреватель такой горячий, что\",\n",
    "и посчитать количество случаев, когда за ним следует \"нагреватель\". Однако это не всегда выполнимо. Обычно используются *наивные методы*, что подразумевает использование упрощений.\n",
    "\n",
    "**Биграммная модель** легко реализуется, но является очень наивной. Например, она аппроксимирует вероятность слова $w_n$ при заданных предыдущих словах \n",
    "\n",
    "$$ \n",
    "\\mathrm{P}(w_n \\mid w_1, w_2, \\dots, w_{n−1}) \n",
    "$$\n",
    "\n",
    "используя только условную вероятность предшествующего слова $P(w_n \\mid w_{n−1})$. Другими словами, вместо вычисления вероятности\n",
    "\n",
    "$$\n",
    "\\mathrm{P}(\\text{нагреватель} \\mid \\text{основной нагреватель такой горячий, что})\\,,\n",
    "$$\n",
    "\n",
    "мы аппроксимируем ее вероятностью\n",
    "\n",
    "$$\n",
    "\\mathrm{P}(\\text{нагреватель} \\mid \\text{что})\\,.\n",
    "$$"
   ]
  },
  {
   "cell_type": "code",
   "execution_count": null,
   "id": "218eeaf4-86b0-470f-840e-58a648b73c8e",
   "metadata": {
    "deletable": false,
    "nbgrader": {
     "cell_type": "code",
     "checksum": "39b11ca40da1d34991e94a6d57b28a35",
     "grade": true,
     "grade_id": "cell-51203e3aec479b8e",
     "locked": false,
     "points": 0,
     "schema_version": 3,
     "solution": true,
     "task": false
    }
   },
   "outputs": [],
   "source": [
    "class GPTModel(nn.Module):\n",
    "\n",
    "    def __init__(self, **kwargs):\n",
    "        super().__init__()\n",
    "\n",
    "        # Устанавливаем атрибуты класса на основе переданных аргументов\n",
    "        for key, value in kwargs.items():\n",
    "            setattr(self, key, value)\n",
    "\n",
    "        # Создаем таблицу для эмбеддингов токенов\n",
    "        self.token_embedding_table = nn.Embedding(self.vocab_size, self.n_embd)\n",
    "\n",
    "        # Создаем таблицу для позиционных эмбеддингов\n",
    "        self.position_embedding_table = nn.Embedding(self.n_ctx, self.n_embd)\n",
    "\n",
    "        # Создаем последовательность блоков трансформера\n",
    "        self.blocks = nn.Sequential(*[Block(**kwargs) for _ in range(self.n_layer)])\n",
    "\n",
    "        # Создаем слой нормализации после последнего блока\n",
    "        self.ln_f = nn.LayerNorm(self.n_embd)\n",
    "\n",
    "        # Создаем линейный слой для преобразования в логиты\n",
    "        self.lm_head = nn.Linear(self.n_embd, self.vocab_size)\n",
    "\n",
    "    def forward(self, idx, targets=None):\n",
    "        \"\"\"\n",
    "        Задание 5 (4 балла): \n",
    "        Вам предоставлен код класса GPTModel, который представляет собой модель на основе архитектуры GPT (Generative Pre-trained Transformer). \n",
    "        Ваша задача - реализовать метод forward для этого класса. Метод forward принимает входной тензор idx и, при необходимости, целевой тензор targets.\n",
    "\n",
    "        Ваша задача - выполнять следующие операции в методе forward:\n",
    "\n",
    "        Получить эмбеддинги токенов (tok_emb) из таблицы эмбеддингов для токенов.\n",
    "        Получить позиционные эмбеддинги (pos_emb) из таблицы позиционных эмбеддингов.\n",
    "        Объединить эмбеддинги токенов и позиционные эмбеддинги, добавляя их друг к другу, и сохранить результат в тензор x.\n",
    "        Проходить тензор x через последовательность блоков трансформера (self.blocks).\n",
    "        Применить слой нормализации (self.ln_f) к выходу из блоков.\n",
    "        Проходить выход через линейный слой self.lm_head для получения логитов (logits) для каждого токена.\n",
    "        Если вам предоставлены целевые токены (targets), вам также нужно рассчитать функцию потерь, используя кросс-энтропию (F.cross_entropy) \n",
    "        между логитами и целевыми токенами.\n",
    "\n",
    "        Возвращайте logits и loss.\n",
    "        В случае затруднений обратиться к коду как подсказке по операциям:\n",
    "        https://github.com/antonio-f/GPT_from_scratch/blob/main/GPT_from_scratch.ipynb \n",
    "        \"\"\"\n",
    "        # НАЧАЛО ВАШЕГО РЕШЕНИЯ\n",
    "        raise NotImplementedError() # удалить эту строку в процессе решения\n",
    "        # КОНЕЦ ВАШЕГО РЕШЕНИЯ\n",
    "\n",
    "        return logits, loss\n",
    "\n",
    "    def generate(self, idx, max_new_tokens):\n",
    "        # idx - это массив (B, T) с индексами в текущем контексте\n",
    "        for _ in range(max_new_tokens):\n",
    "            # Обрезаем idx до последних токенов размером n_ctx\n",
    "            idx_cond = idx[:, -self.n_ctx:]\n",
    "            # Получаем прогнозы\n",
    "            logits, loss = self(idx_cond)\n",
    "            # Сосредотачиваемся только на последнем шаге времени\n",
    "            logits = logits[:, -1, :]  # становится (B, C)\n",
    "            # Применяем софтмакс для получения вероятностей\n",
    "            probs = F.softmax(logits, dim=-1)  # (B, C)\n",
    "            # Сэмплируем из распределения\n",
    "            idx_next = torch.multinomial(probs, num_samples=1)  # (B, 1)\n",
    "            # Добавляем выбранный индекс к текущей последовательности\n",
    "            idx = torch.cat((idx, idx_next), dim=1)  # (B, T+1)\n",
    "        return idx\n"
   ]
  },
  {
   "cell_type": "code",
   "execution_count": null,
   "id": "3d2dfd12-1a70-4ca0-8e51-9d109effab35",
   "metadata": {},
   "outputs": [],
   "source": [
    "# Создание экземпляра модели с параметрами, переданными через `config`\n",
    "model = GPTModel(**config)\n",
    "\n",
    "# Перенос модели на указанное устройство (например, GPU)\n",
    "m = model.to(device)\n",
    "\n",
    "# Создание оптимизатора AdamW для обучения модели с заданной скоростью обучения (learning_rate)\n",
    "optimizer = torch.optim.AdamW(model.parameters(), lr=config[\"learning_rate\"])\n",
    "\n",
    "# Вывод количества параметров в модели в миллионах (1e6)\n",
    "print(sum(p.numel() for p in m.parameters()) / 1e6, 'M parameters')"
   ]
  },
  {
   "cell_type": "code",
   "execution_count": null,
   "id": "5d75db41-46cf-477a-9a4b-f6c530d468a7",
   "metadata": {},
   "outputs": [],
   "source": [
    "max_iters = 5000  # Количество итераций обучения\n",
    "\n",
    "# Запуск цикла обучения на заданное количество итераций\n",
    "for iter in range(max_iters):\n",
    "\n",
    "    # Периодически оцениваем потери на обучающем и валидационном наборах данных\n",
    "    if iter % config[\"eval_interval\"] == 0 or iter == max_iters - 1:\n",
    "        # Оценка потерь путем вызова функции estimate_loss с использованием модели\n",
    "        losses = estimate_loss(model)\n",
    "        # Выводим информацию о потерях на обучающем и валидационном наборах данных\n",
    "        print(f\"шаг {iter}: потери на обучении {losses['train']:.4f}, потери на валидации {losses['val']:.4f}\")\n",
    "\n",
    "    # Получаем пакет данных (xb - входные данные, yb - целевые значения)\n",
    "    xb, yb = get_batch('train')\n",
    "\n",
    "    # Вычисляем логиты и потери, вызывая модель с входными данными\n",
    "    logits, loss = model(xb, yb)\n",
    "\n",
    "    # Обнуляем градиенты оптимизатора с помощью optimizer.zero_grad(set_to_none=True)\n",
    "    optimizer.zero_grad(set_to_none=True)\n",
    "\n",
    "    # Вычисляем градиенты потерь относительно параметров модели\n",
    "    loss.backward()\n",
    "\n",
    "    # Обновляем параметры модели с использованием оптимизатора\n",
    "    optimizer.step()"
   ]
  }
 ],
 "metadata": {
  "kernelspec": {
   "display_name": "Python 3 (ipykernel)",
   "language": "python",
   "name": "python3"
  },
  "language_info": {
   "codemirror_mode": {
    "name": "ipython",
    "version": 3
   },
   "file_extension": ".py",
   "mimetype": "text/x-python",
   "name": "python",
   "nbconvert_exporter": "python",
   "pygments_lexer": "ipython3",
   "version": "3.11.5"
  }
 },
 "nbformat": 4,
 "nbformat_minor": 5
}
